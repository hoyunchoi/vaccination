{
 "cells": [
  {
   "cell_type": "code",
   "execution_count": 2,
   "metadata": {},
   "outputs": [],
   "source": [
    "import os\n",
    "import pandas as pd"
   ]
  },
  {
   "cell_type": "code",
   "execution_count": 9,
   "metadata": {},
   "outputs": [],
   "source": [
    "df = pd.read_csv(os.path.join('data', 'us_contact_matrix.txt'), header=None, delimiter='\\t')"
   ]
  },
  {
   "cell_type": "code",
   "execution_count": 10,
   "metadata": {},
   "outputs": [
    {
     "data": {
      "text/html": "<div>\n<style scoped>\n    .dataframe tbody tr th:only-of-type {\n        vertical-align: middle;\n    }\n\n    .dataframe tbody tr th {\n        vertical-align: top;\n    }\n\n    .dataframe thead th {\n        text-align: right;\n    }\n</style>\n<table border=\"1\" class=\"dataframe\">\n  <thead>\n    <tr style=\"text-align: right;\">\n      <th></th>\n      <th>0</th>\n      <th>1</th>\n      <th>2</th>\n      <th>3</th>\n      <th>4</th>\n      <th>5</th>\n      <th>6</th>\n      <th>7</th>\n      <th>8</th>\n    </tr>\n  </thead>\n  <tbody>\n    <tr>\n      <th>0</th>\n      <td>3.665156</td>\n      <td>2.241619</td>\n      <td>1.151997</td>\n      <td>1.615613</td>\n      <td>1.116513</td>\n      <td>0.693534</td>\n      <td>0.402356</td>\n      <td>0.183264</td>\n      <td>0.105142</td>\n    </tr>\n    <tr>\n      <th>1</th>\n      <td>2.219845</td>\n      <td>5.831806</td>\n      <td>1.428303</td>\n      <td>1.382805</td>\n      <td>1.855263</td>\n      <td>1.198714</td>\n      <td>0.507990</td>\n      <td>0.211270</td>\n      <td>0.116849</td>\n    </tr>\n    <tr>\n      <th>2</th>\n      <td>1.171514</td>\n      <td>1.466749</td>\n      <td>2.252331</td>\n      <td>2.098818</td>\n      <td>2.063012</td>\n      <td>1.980185</td>\n      <td>0.820805</td>\n      <td>0.251660</td>\n      <td>0.138943</td>\n    </tr>\n    <tr>\n      <th>3</th>\n      <td>1.670307</td>\n      <td>1.443641</td>\n      <td>2.133721</td>\n      <td>1.436155</td>\n      <td>2.104056</td>\n      <td>1.751777</td>\n      <td>0.845485</td>\n      <td>0.249662</td>\n      <td>0.130790</td>\n    </tr>\n    <tr>\n      <th>4</th>\n      <td>1.052939</td>\n      <td>1.766788</td>\n      <td>1.913134</td>\n      <td>1.919278</td>\n      <td>1.493290</td>\n      <td>1.974301</td>\n      <td>0.826376</td>\n      <td>0.294357</td>\n      <td>0.151818</td>\n    </tr>\n    <tr>\n      <th>5</th>\n      <td>0.673586</td>\n      <td>1.175656</td>\n      <td>1.891190</td>\n      <td>1.645680</td>\n      <td>2.033289</td>\n      <td>1.538511</td>\n      <td>1.052135</td>\n      <td>0.293128</td>\n      <td>0.200560</td>\n    </tr>\n    <tr>\n      <th>6</th>\n      <td>0.562011</td>\n      <td>0.716520</td>\n      <td>1.127398</td>\n      <td>1.142301</td>\n      <td>1.223974</td>\n      <td>1.513142</td>\n      <td>1.104866</td>\n      <td>0.514570</td>\n      <td>0.201862</td>\n    </tr>\n    <tr>\n      <th>7</th>\n      <td>0.457103</td>\n      <td>0.532125</td>\n      <td>0.617241</td>\n      <td>0.602323</td>\n      <td>0.778525</td>\n      <td>0.752782</td>\n      <td>0.918857</td>\n      <td>0.826775</td>\n      <td>0.401005</td>\n    </tr>\n    <tr>\n      <th>8</th>\n      <td>0.410689</td>\n      <td>0.460895</td>\n      <td>0.533677</td>\n      <td>0.494141</td>\n      <td>0.628810</td>\n      <td>0.806593</td>\n      <td>0.564492</td>\n      <td>0.627985</td>\n      <td>0.764689</td>\n    </tr>\n  </tbody>\n</table>\n</div>",
      "text/plain": "          0         1         2         3         4         5         6  \\\n0  3.665156  2.241619  1.151997  1.615613  1.116513  0.693534  0.402356   \n1  2.219845  5.831806  1.428303  1.382805  1.855263  1.198714  0.507990   \n2  1.171514  1.466749  2.252331  2.098818  2.063012  1.980185  0.820805   \n3  1.670307  1.443641  2.133721  1.436155  2.104056  1.751777  0.845485   \n4  1.052939  1.766788  1.913134  1.919278  1.493290  1.974301  0.826376   \n5  0.673586  1.175656  1.891190  1.645680  2.033289  1.538511  1.052135   \n6  0.562011  0.716520  1.127398  1.142301  1.223974  1.513142  1.104866   \n7  0.457103  0.532125  0.617241  0.602323  0.778525  0.752782  0.918857   \n8  0.410689  0.460895  0.533677  0.494141  0.628810  0.806593  0.564492   \n\n          7         8  \n0  0.183264  0.105142  \n1  0.211270  0.116849  \n2  0.251660  0.138943  \n3  0.249662  0.130790  \n4  0.294357  0.151818  \n5  0.293128  0.200560  \n6  0.514570  0.201862  \n7  0.826775  0.401005  \n8  0.627985  0.764689  "
     },
     "execution_count": 10,
     "metadata": {},
     "output_type": "execute_result"
    }
   ],
   "source": [
    "df"
   ]
  },
  {
   "cell_type": "code",
   "execution_count": 11,
   "metadata": {},
   "outputs": [],
   "source": [
    "df.to_csv(os.path.join('data', 'us_contact_matrix.txt'), header=False, index=False)"
   ]
  }
 ],
 "metadata": {
  "kernelspec": {
   "display_name": "Python 3.9.4 64-bit ('latest': conda)",
   "name": "python394jvsc74a57bd0aa07f58715284e61641959cc4527fe1b81d4780e9944a26610a030d2f66e9323"
  },
  "language_info": {
   "codemirror_mode": {
    "name": "ipython",
    "version": 3
   },
   "file_extension": ".py",
   "mimetype": "text/x-python",
   "name": "python",
   "nbconvert_exporter": "python",
   "pygments_lexer": "ipython3",
   "version": "3.9.4"
  },
  "orig_nbformat": 2
 },
 "nbformat": 4,
 "nbformat_minor": 2
}